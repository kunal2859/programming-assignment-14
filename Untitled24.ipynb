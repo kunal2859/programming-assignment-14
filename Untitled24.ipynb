{
 "cells": [
  {
   "cell_type": "code",
   "execution_count": 1,
   "id": "362f00c9",
   "metadata": {},
   "outputs": [
    {
     "name": "stdout",
     "output_type": "stream",
     "text": [
      "0\n",
      "7\n",
      "14\n",
      "21\n",
      "28\n",
      "35\n",
      "42\n",
      "49\n",
      "56\n",
      "63\n",
      "70\n",
      "77\n",
      "84\n",
      "91\n",
      "98\n"
     ]
    }
   ],
   "source": [
    "def div(n):\n",
    "    i=0\n",
    "    while i<n:\n",
    "        j=i\n",
    "        i=i+1\n",
    "        if j%7==0:\n",
    "            yield j\n",
    "for i in div(100):\n",
    "    print(i)"
   ]
  },
  {
   "cell_type": "code",
   "execution_count": 4,
   "id": "145036a7",
   "metadata": {},
   "outputs": [
    {
     "name": "stdout",
     "output_type": "stream",
     "text": [
      "New to Python or choosing between Python 2 and Python 3? Read Python 2 or Python 3.\n",
      "2: 2\n",
      "3.: 1\n",
      "3?: 1\n",
      "New: 1\n",
      "Python: 5\n",
      "Read: 1\n",
      "and: 1\n",
      "between: 1\n",
      "choosing: 1\n",
      "or: 2\n",
      "to: 1\n"
     ]
    }
   ],
   "source": [
    "str=input().split()\n",
    "freq={}\n",
    "for word in str:\n",
    "    freq[word]=freq.get(word,0)+1\n",
    "words=list(freq.keys())\n",
    "words.sort()\n",
    "for w in words:\n",
    "    print(\"%s: %d\" % (w,freq[w]))"
   ]
  },
  {
   "cell_type": "code",
   "execution_count": 5,
   "id": "baf4989c",
   "metadata": {},
   "outputs": [
    {
     "name": "stdout",
     "output_type": "stream",
     "text": [
      "Male\n",
      "Female\n"
     ]
    }
   ],
   "source": [
    "class Person(object):\n",
    "    def getGender(self):\n",
    "        return \"unknown\"\n",
    "class Male(Person):\n",
    "    def getGender(self):\n",
    "        return \"Male\"\n",
    "class Female(Person):\n",
    "    def getGender(self):\n",
    "        return \"Female\"\n",
    "aMale=Male()\n",
    "aFemale=Female()\n",
    "print(aMale.getGender())\n",
    "print(aFemale.getGender())"
   ]
  },
  {
   "cell_type": "code",
   "execution_count": 8,
   "id": "361d0d46",
   "metadata": {},
   "outputs": [
    {
     "name": "stdout",
     "output_type": "stream",
     "text": [
      "IPlayHockey.\n",
      "IPlayFootball.\n",
      "ILoveHockey.\n",
      "ILoveFootball.\n",
      "YouPlayHockey.\n",
      "YouPlayFootball.\n",
      "YouLoveHockey.\n",
      "YouLoveFootball.\n"
     ]
    }
   ],
   "source": [
    "subjects=[\"I\",\"You\"]\n",
    "verbs=[\"Play\",\"Love\"]\n",
    "objects=[\"Hockey\",\"Football\"]\n",
    "for i in range(len(subjects)):\n",
    "    for j in range(len(verbs)):\n",
    "        for k in range(len(objects)):\n",
    "            str=\"%s%s%s.\"%(subjects[i],verbs[j],objects[k])\n",
    "            print(str)"
   ]
  },
  {
   "cell_type": "code",
   "execution_count": 11,
   "id": "a87b9c67",
   "metadata": {},
   "outputs": [
    {
     "name": "stdout",
     "output_type": "stream",
     "text": [
      "b'x\\x9c\\xcbH\\xcd\\xc9\\xc9W(\\xcf/\\xcaIQ\\xcc\\x00\\xb1\\x91\\x98\\n\\x98l\\x00\\xb2\\xe9\\x11\\xd5'\n",
      "b'hello world!helloworld!hello world!hello world!'\n"
     ]
    }
   ],
   "source": [
    "import zlib\n",
    "s='hello world!helloworld!hello world!hello world!'\n",
    "y=bytes(s,'utf-8')\n",
    "t=zlib.compress(y)\n",
    "print(t)\n",
    "print(zlib.decompress(t))"
   ]
  },
  {
   "cell_type": "code",
   "execution_count": 14,
   "id": "f4604aa1",
   "metadata": {},
   "outputs": [
    {
     "name": "stdout",
     "output_type": "stream",
     "text": [
      "3\n"
     ]
    }
   ],
   "source": [
    "def binary_search(list,n):\n",
    "    low=0\n",
    "    high=len(list)-1\n",
    "    mid=0\n",
    "    while low<=high:\n",
    "        mid=(high+low)//2\n",
    "        if(list[mid]<n):\n",
    "            low=mid+1\n",
    "        elif(list[mid]>n):\n",
    "            high=mid-1\n",
    "        else:\n",
    "            return mid\n",
    "    return -1\n",
    "list=[4,5,9,10,28]\n",
    "n=10\n",
    "res=binary_search(list,n)\n",
    "if res!=-1:\n",
    "    print(res)\n",
    "else:\n",
    "    print(\"Element not found\")"
   ]
  }
 ],
 "metadata": {
  "kernelspec": {
   "display_name": "Python 3 (ipykernel)",
   "language": "python",
   "name": "python3"
  },
  "language_info": {
   "codemirror_mode": {
    "name": "ipython",
    "version": 3
   },
   "file_extension": ".py",
   "mimetype": "text/x-python",
   "name": "python",
   "nbconvert_exporter": "python",
   "pygments_lexer": "ipython3",
   "version": "3.9.7"
  }
 },
 "nbformat": 4,
 "nbformat_minor": 5
}
